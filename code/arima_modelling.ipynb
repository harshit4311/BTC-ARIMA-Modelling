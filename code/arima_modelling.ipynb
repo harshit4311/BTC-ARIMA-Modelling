{
 "cells": [
  {
   "cell_type": "code",
   "execution_count": 1,
   "id": "25a83e20",
   "metadata": {},
   "outputs": [
    {
     "name": "stdout",
     "output_type": "stream",
     "text": [
      "hello\n"
     ]
    }
   ],
   "source": [
    "print('hello')"
   ]
  },
  {
   "cell_type": "code",
   "execution_count": 2,
   "id": "cdbbb5c1",
   "metadata": {},
   "outputs": [],
   "source": [
    "import pandas as pd"
   ]
  },
  {
   "cell_type": "code",
   "execution_count": 3,
   "id": "dc71578b",
   "metadata": {},
   "outputs": [],
   "source": [
    "df = pd.read_csv('/Users/harshit/Downloads/Research-Commons-Quant/ARIMA-modelling/dataset/btc.csv')"
   ]
  },
  {
   "cell_type": "code",
   "execution_count": 4,
   "id": "291d7afc",
   "metadata": {},
   "outputs": [
    {
     "data": {
      "text/html": [
       "<div>\n",
       "<style scoped>\n",
       "    .dataframe tbody tr th:only-of-type {\n",
       "        vertical-align: middle;\n",
       "    }\n",
       "\n",
       "    .dataframe tbody tr th {\n",
       "        vertical-align: top;\n",
       "    }\n",
       "\n",
       "    .dataframe thead th {\n",
       "        text-align: right;\n",
       "    }\n",
       "</style>\n",
       "<table border=\"1\" class=\"dataframe\">\n",
       "  <thead>\n",
       "    <tr style=\"text-align: right;\">\n",
       "      <th></th>\n",
       "      <th>timestamp</th>\n",
       "      <th>symbol</th>\n",
       "      <th>base</th>\n",
       "      <th>market_venue</th>\n",
       "      <th>open</th>\n",
       "      <th>high</th>\n",
       "      <th>low</th>\n",
       "      <th>close</th>\n",
       "      <th>volume</th>\n",
       "      <th>trades</th>\n",
       "      <th>vwap</th>\n",
       "    </tr>\n",
       "  </thead>\n",
       "  <tbody>\n",
       "    <tr>\n",
       "      <th>0</th>\n",
       "      <td>2022-07-27 00:00:00</td>\n",
       "      <td>BTC</td>\n",
       "      <td>USDT</td>\n",
       "      <td>BINANCE</td>\n",
       "      <td>21459.43</td>\n",
       "      <td>23112.63</td>\n",
       "      <td>21421.02</td>\n",
       "      <td>22952.45</td>\n",
       "      <td>120859.26615</td>\n",
       "      <td>2895679</td>\n",
       "      <td>22320.25</td>\n",
       "    </tr>\n",
       "    <tr>\n",
       "      <th>1</th>\n",
       "      <td>2022-07-28 00:00:00</td>\n",
       "      <td>BTC</td>\n",
       "      <td>USDT</td>\n",
       "      <td>BINANCE</td>\n",
       "      <td>22954.31</td>\n",
       "      <td>24199.72</td>\n",
       "      <td>22582.13</td>\n",
       "      <td>23842.93</td>\n",
       "      <td>321246.06648</td>\n",
       "      <td>9102640</td>\n",
       "      <td>23266.60</td>\n",
       "    </tr>\n",
       "    <tr>\n",
       "      <th>2</th>\n",
       "      <td>2022-07-29 00:00:00</td>\n",
       "      <td>BTC</td>\n",
       "      <td>USDT</td>\n",
       "      <td>BINANCE</td>\n",
       "      <td>23845.25</td>\n",
       "      <td>24442.66</td>\n",
       "      <td>23414.03</td>\n",
       "      <td>23773.75</td>\n",
       "      <td>198238.52330</td>\n",
       "      <td>6218869</td>\n",
       "      <td>23871.89</td>\n",
       "    </tr>\n",
       "    <tr>\n",
       "      <th>3</th>\n",
       "      <td>2022-07-30 00:00:00</td>\n",
       "      <td>BTC</td>\n",
       "      <td>USDT</td>\n",
       "      <td>BINANCE</td>\n",
       "      <td>23777.28</td>\n",
       "      <td>24668.00</td>\n",
       "      <td>23502.25</td>\n",
       "      <td>23643.51</td>\n",
       "      <td>151060.13211</td>\n",
       "      <td>4801528</td>\n",
       "      <td>24060.42</td>\n",
       "    </tr>\n",
       "    <tr>\n",
       "      <th>4</th>\n",
       "      <td>2022-07-31 00:00:00</td>\n",
       "      <td>BTC</td>\n",
       "      <td>USDT</td>\n",
       "      <td>BINANCE</td>\n",
       "      <td>23644.64</td>\n",
       "      <td>24194.82</td>\n",
       "      <td>23227.31</td>\n",
       "      <td>23293.32</td>\n",
       "      <td>127742.83335</td>\n",
       "      <td>4463704</td>\n",
       "      <td>23707.08</td>\n",
       "    </tr>\n",
       "  </tbody>\n",
       "</table>\n",
       "</div>"
      ],
      "text/plain": [
       "             timestamp symbol  base market_venue      open      high  \\\n",
       "0  2022-07-27 00:00:00    BTC  USDT      BINANCE  21459.43  23112.63   \n",
       "1  2022-07-28 00:00:00    BTC  USDT      BINANCE  22954.31  24199.72   \n",
       "2  2022-07-29 00:00:00    BTC  USDT      BINANCE  23845.25  24442.66   \n",
       "3  2022-07-30 00:00:00    BTC  USDT      BINANCE  23777.28  24668.00   \n",
       "4  2022-07-31 00:00:00    BTC  USDT      BINANCE  23644.64  24194.82   \n",
       "\n",
       "        low     close        volume   trades      vwap  \n",
       "0  21421.02  22952.45  120859.26615  2895679  22320.25  \n",
       "1  22582.13  23842.93  321246.06648  9102640  23266.60  \n",
       "2  23414.03  23773.75  198238.52330  6218869  23871.89  \n",
       "3  23502.25  23643.51  151060.13211  4801528  24060.42  \n",
       "4  23227.31  23293.32  127742.83335  4463704  23707.08  "
      ]
     },
     "execution_count": 4,
     "metadata": {},
     "output_type": "execute_result"
    }
   ],
   "source": [
    "df.head()"
   ]
  },
  {
   "cell_type": "code",
   "execution_count": null,
   "id": "60081582",
   "metadata": {},
   "outputs": [],
   "source": []
  }
 ],
 "metadata": {
  "kernelspec": {
   "display_name": "base",
   "language": "python",
   "name": "python3"
  },
  "language_info": {
   "codemirror_mode": {
    "name": "ipython",
    "version": 3
   },
   "file_extension": ".py",
   "mimetype": "text/x-python",
   "name": "python",
   "nbconvert_exporter": "python",
   "pygments_lexer": "ipython3",
   "version": "3.12.4"
  }
 },
 "nbformat": 4,
 "nbformat_minor": 5
}
